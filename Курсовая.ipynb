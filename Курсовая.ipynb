{
  "nbformat": 4,
  "nbformat_minor": 0,
  "metadata": {
    "colab": {
      "provenance": [],
      "mount_file_id": "1DRXgOAWKYfam7YTwdXIWipoKhOJWhlpR",
      "authorship_tag": "ABX9TyNBThi2kJWSoqTTI+f8ooM5",
      "include_colab_link": true
    },
    "kernelspec": {
      "name": "python3",
      "display_name": "Python 3"
    },
    "language_info": {
      "name": "python"
    }
  },
  "cells": [
    {
      "cell_type": "markdown",
      "metadata": {
        "id": "view-in-github",
        "colab_type": "text"
      },
      "source": [
        "<a href=\"https://colab.research.google.com/github/Amberalex42/1practice_temp/blob/master/%D0%9A%D1%83%D1%80%D1%81%D0%BE%D0%B2%D0%B0%D1%8F.ipynb\" target=\"_parent\"><img src=\"https://colab.research.google.com/assets/colab-badge.svg\" alt=\"Open In Colab\"/></a>"
      ]
    },
    {
      "cell_type": "code",
      "execution_count": 1,
      "metadata": {
        "id": "KbNL5tovrK8o"
      },
      "outputs": [],
      "source": [
        "from sklearn.preprocessing import LabelBinarizer\n",
        "from tensorflow import keras\n",
        "from keras.utils import plot_model\n",
        "\n",
        "import tensorflow as tf\n",
        "import numpy as np\n",
        "import pandas as pd\n",
        "import matplotlib.pyplot as plt\n",
        "import pickle"
      ]
    },
    {
      "cell_type": "code",
      "source": [
        "train_df = pd.read_csv('/content/drive/MyDrive/sign_mnist_train.csv')\n",
        "train_df = train_df.sample(frac=1, random_state=42)\n",
        "X, y = train_df.drop('label', axis=1), train_df['label']"
      ],
      "metadata": {
        "id": "ADbDPH-U5HS_"
      },
      "execution_count": 2,
      "outputs": []
    },
    {
      "cell_type": "code",
      "source": [
        "X = X/255.0\n",
        "X = tf.reshape(X, [-1, 28, 28, 1])"
      ],
      "metadata": {
        "id": "_xsTjyc75pxi"
      },
      "execution_count": 4,
      "outputs": []
    },
    {
      "cell_type": "code",
      "source": [
        "label_binarizer = LabelBinarizer()\n",
        "y = label_binarizer.fit_transform(y)"
      ],
      "metadata": {
        "id": "MXgzZ3Sv51CQ"
      },
      "execution_count": 5,
      "outputs": []
    },
    {
      "cell_type": "code",
      "source": [
        "X_train, X_valid = X[:25000], X[25000:]\n",
        "y_train, y_valid = y[:25000], y[25000:]"
      ],
      "metadata": {
        "id": "9N4-cQ8b6L2o"
      },
      "execution_count": 6,
      "outputs": []
    },
    {
      "cell_type": "code",
      "source": [
        "model = keras.models.Sequential()\n",
        "model.add(keras.layers.Conv2D(32, (5, 5), padding='same', activation='relu', input_shape=(28, 28, 1)))\n",
        "model.add(keras.layers.MaxPooling2D(pool_size=(2, 2)))\n",
        "model.add(keras.layers.Conv2D(64, (5, 5), padding='same', activation='relu'))\n",
        "model.add(keras.layers.MaxPooling2D(pool_size=(2, 2)))\n",
        "model.add(keras.layers.Conv2D(128, (5, 5), padding='same', activation='relu'))\n",
        "model.add(keras.layers.MaxPooling2D(pool_size=(2, 2)))\n",
        "model.add(keras.layers.Flatten())\n",
        "model.add(keras.layers.Dense(128, activation='relu'))\n",
        "model.add(keras.layers.Dense(24, activation='softmax'))"
      ],
      "metadata": {
        "id": "OM-7Viqo6jnY"
      },
      "execution_count": 7,
      "outputs": []
    },
    {
      "cell_type": "code",
      "source": [
        "model.compile(loss='categorical_crossentropy', optimizer='adam', metrics=['accuracy'])"
      ],
      "metadata": {
        "id": "M4AmJuhE8KjE"
      },
      "execution_count": 8,
      "outputs": []
    },
    {
      "cell_type": "code",
      "source": [
        "save_best_cb = keras.callbacks.ModelCheckpoint('models/initial-end-to-end', save_best_only=True)\n",
        "early_stopping_cb = keras.callbacks.EarlyStopping(patience=5)"
      ],
      "metadata": {
        "id": "T-r62l-28kcT"
      },
      "execution_count": 9,
      "outputs": []
    },
    {
      "cell_type": "code",
      "source": [
        "history = model.fit(X_train, y_train, epochs=20, validation_data=(X_valid, y_valid), callbacks=[save_best_cb, early_stopping_cb])"
      ],
      "metadata": {
        "colab": {
          "base_uri": "https://localhost:8080/"
        },
        "id": "aUspF20y9GsJ",
        "outputId": "3bb0a561-6e9c-4ca8-aa53-288922b0ada9"
      },
      "execution_count": 11,
      "outputs": [
        {
          "metadata": {
            "tags": null
          },
          "name": "stdout",
          "output_type": "stream",
          "text": [
            "Epoch 1/20\n",
            "782/782 [==============================] - ETA: 0s - loss: 0.4460 - accuracy: 0.8573"
          ]
        },
        {
          "metadata": {
            "tags": null
          },
          "name": "stderr",
          "output_type": "stream",
          "text": [
            "WARNING:absl:Found untraced functions such as _jit_compiled_convolution_op, _jit_compiled_convolution_op, _jit_compiled_convolution_op, _update_step_xla while saving (showing 4 of 4). These functions will not be directly callable after loading.\n"
          ]
        },
        {
          "metadata": {
            "tags": null
          },
          "name": "stdout",
          "output_type": "stream",
          "text": [
            "782/782 [==============================] - 130s 166ms/step - loss: 0.4460 - accuracy: 0.8573 - val_loss: 0.0117 - val_accuracy: 0.9984\n",
            "Epoch 2/20\n",
            "781/782 [============================>.] - ETA: 0s - loss: 0.0137 - accuracy: 0.9964"
          ]
        },
        {
          "metadata": {
            "tags": null
          },
          "name": "stderr",
          "output_type": "stream",
          "text": [
            "WARNING:absl:Found untraced functions such as _jit_compiled_convolution_op, _jit_compiled_convolution_op, _jit_compiled_convolution_op, _update_step_xla while saving (showing 4 of 4). These functions will not be directly callable after loading.\n"
          ]
        },
        {
          "metadata": {
            "tags": null
          },
          "name": "stdout",
          "output_type": "stream",
          "text": [
            "782/782 [==============================] - 124s 158ms/step - loss: 0.0137 - accuracy: 0.9964 - val_loss: 5.1033e-04 - val_accuracy: 1.0000\n",
            "Epoch 3/20\n",
            "781/782 [============================>.] - ETA: 0s - loss: 2.5113e-04 - accuracy: 1.0000"
          ]
        },
        {
          "metadata": {
            "tags": null
          },
          "name": "stderr",
          "output_type": "stream",
          "text": [
            "WARNING:absl:Found untraced functions such as _jit_compiled_convolution_op, _jit_compiled_convolution_op, _jit_compiled_convolution_op, _update_step_xla while saving (showing 4 of 4). These functions will not be directly callable after loading.\n"
          ]
        },
        {
          "metadata": {
            "tags": null
          },
          "name": "stdout",
          "output_type": "stream",
          "text": [
            "782/782 [==============================] - 126s 161ms/step - loss: 2.5107e-04 - accuracy: 1.0000 - val_loss: 1.5795e-04 - val_accuracy: 1.0000\n",
            "Epoch 4/20\n",
            "781/782 [============================>.] - ETA: 0s - loss: 1.0443e-04 - accuracy: 1.0000"
          ]
        },
        {
          "metadata": {
            "tags": null
          },
          "name": "stderr",
          "output_type": "stream",
          "text": [
            "WARNING:absl:Found untraced functions such as _jit_compiled_convolution_op, _jit_compiled_convolution_op, _jit_compiled_convolution_op, _update_step_xla while saving (showing 4 of 4). These functions will not be directly callable after loading.\n"
          ]
        },
        {
          "metadata": {
            "tags": null
          },
          "name": "stdout",
          "output_type": "stream",
          "text": [
            "782/782 [==============================] - 123s 158ms/step - loss: 1.0441e-04 - accuracy: 1.0000 - val_loss: 9.0284e-05 - val_accuracy: 1.0000\n",
            "Epoch 5/20\n",
            "781/782 [============================>.] - ETA: 0s - loss: 5.9362e-05 - accuracy: 1.0000"
          ]
        },
        {
          "metadata": {
            "tags": null
          },
          "name": "stderr",
          "output_type": "stream",
          "text": [
            "WARNING:absl:Found untraced functions such as _jit_compiled_convolution_op, _jit_compiled_convolution_op, _jit_compiled_convolution_op, _update_step_xla while saving (showing 4 of 4). These functions will not be directly callable after loading.\n"
          ]
        },
        {
          "metadata": {
            "tags": null
          },
          "name": "stdout",
          "output_type": "stream",
          "text": [
            "782/782 [==============================] - 123s 157ms/step - loss: 5.9355e-05 - accuracy: 1.0000 - val_loss: 5.0893e-05 - val_accuracy: 1.0000\n",
            "Epoch 6/20\n",
            "781/782 [============================>.] - ETA: 0s - loss: 3.6678e-05 - accuracy: 1.0000"
          ]
        },
        {
          "metadata": {
            "tags": null
          },
          "name": "stderr",
          "output_type": "stream",
          "text": [
            "WARNING:absl:Found untraced functions such as _jit_compiled_convolution_op, _jit_compiled_convolution_op, _jit_compiled_convolution_op, _update_step_xla while saving (showing 4 of 4). These functions will not be directly callable after loading.\n"
          ]
        },
        {
          "metadata": {
            "tags": null
          },
          "name": "stdout",
          "output_type": "stream",
          "text": [
            "782/782 [==============================] - 124s 159ms/step - loss: 3.6668e-05 - accuracy: 1.0000 - val_loss: 3.4178e-05 - val_accuracy: 1.0000\n",
            "Epoch 7/20\n",
            "782/782 [==============================] - ETA: 0s - loss: 2.3178e-05 - accuracy: 1.0000"
          ]
        },
        {
          "metadata": {
            "tags": null
          },
          "name": "stderr",
          "output_type": "stream",
          "text": [
            "WARNING:absl:Found untraced functions such as _jit_compiled_convolution_op, _jit_compiled_convolution_op, _jit_compiled_convolution_op, _update_step_xla while saving (showing 4 of 4). These functions will not be directly callable after loading.\n"
          ]
        },
        {
          "metadata": {
            "tags": null
          },
          "name": "stdout",
          "output_type": "stream",
          "text": [
            "782/782 [==============================] - 123s 157ms/step - loss: 2.3178e-05 - accuracy: 1.0000 - val_loss: 2.0358e-05 - val_accuracy: 1.0000\n",
            "Epoch 8/20\n",
            "781/782 [============================>.] - ETA: 0s - loss: 1.4909e-05 - accuracy: 1.0000"
          ]
        },
        {
          "metadata": {
            "tags": null
          },
          "name": "stderr",
          "output_type": "stream",
          "text": [
            "WARNING:absl:Found untraced functions such as _jit_compiled_convolution_op, _jit_compiled_convolution_op, _jit_compiled_convolution_op, _update_step_xla while saving (showing 4 of 4). These functions will not be directly callable after loading.\n"
          ]
        },
        {
          "metadata": {
            "tags": null
          },
          "name": "stdout",
          "output_type": "stream",
          "text": [
            "782/782 [==============================] - 124s 159ms/step - loss: 1.4905e-05 - accuracy: 1.0000 - val_loss: 1.4590e-05 - val_accuracy: 1.0000\n",
            "Epoch 9/20\n",
            "781/782 [============================>.] - ETA: 0s - loss: 9.7408e-06 - accuracy: 1.0000"
          ]
        },
        {
          "metadata": {
            "tags": null
          },
          "name": "stderr",
          "output_type": "stream",
          "text": [
            "WARNING:absl:Found untraced functions such as _jit_compiled_convolution_op, _jit_compiled_convolution_op, _jit_compiled_convolution_op, _update_step_xla while saving (showing 4 of 4). These functions will not be directly callable after loading.\n"
          ]
        },
        {
          "metadata": {
            "tags": null
          },
          "name": "stdout",
          "output_type": "stream",
          "text": [
            "782/782 [==============================] - 129s 166ms/step - loss: 9.7425e-06 - accuracy: 1.0000 - val_loss: 9.6184e-06 - val_accuracy: 1.0000\n",
            "Epoch 10/20\n",
            "781/782 [============================>.] - ETA: 0s - loss: 6.2015e-06 - accuracy: 1.0000"
          ]
        },
        {
          "metadata": {
            "tags": null
          },
          "name": "stderr",
          "output_type": "stream",
          "text": [
            "WARNING:absl:Found untraced functions such as _jit_compiled_convolution_op, _jit_compiled_convolution_op, _jit_compiled_convolution_op, _update_step_xla while saving (showing 4 of 4). These functions will not be directly callable after loading.\n"
          ]
        },
        {
          "metadata": {
            "tags": null
          },
          "name": "stdout",
          "output_type": "stream",
          "text": [
            "782/782 [==============================] - 127s 163ms/step - loss: 6.1996e-06 - accuracy: 1.0000 - val_loss: 6.3187e-06 - val_accuracy: 1.0000\n",
            "Epoch 11/20\n",
            "781/782 [============================>.] - ETA: 0s - loss: 4.0820e-06 - accuracy: 1.0000"
          ]
        },
        {
          "metadata": {
            "tags": null
          },
          "name": "stderr",
          "output_type": "stream",
          "text": [
            "WARNING:absl:Found untraced functions such as _jit_compiled_convolution_op, _jit_compiled_convolution_op, _jit_compiled_convolution_op, _update_step_xla while saving (showing 4 of 4). These functions will not be directly callable after loading.\n"
          ]
        },
        {
          "metadata": {
            "tags": null
          },
          "name": "stdout",
          "output_type": "stream",
          "text": [
            "782/782 [==============================] - 126s 161ms/step - loss: 4.0812e-06 - accuracy: 1.0000 - val_loss: 3.9613e-06 - val_accuracy: 1.0000\n",
            "Epoch 12/20\n",
            "782/782 [==============================] - ETA: 0s - loss: 2.6082e-06 - accuracy: 1.0000"
          ]
        },
        {
          "metadata": {
            "tags": null
          },
          "name": "stderr",
          "output_type": "stream",
          "text": [
            "WARNING:absl:Found untraced functions such as _jit_compiled_convolution_op, _jit_compiled_convolution_op, _jit_compiled_convolution_op, _update_step_xla while saving (showing 4 of 4). These functions will not be directly callable after loading.\n"
          ]
        },
        {
          "metadata": {
            "tags": null
          },
          "name": "stdout",
          "output_type": "stream",
          "text": [
            "782/782 [==============================] - 127s 162ms/step - loss: 2.6082e-06 - accuracy: 1.0000 - val_loss: 2.5352e-06 - val_accuracy: 1.0000\n",
            "Epoch 13/20\n",
            "781/782 [============================>.] - ETA: 0s - loss: 1.6655e-06 - accuracy: 1.0000"
          ]
        },
        {
          "metadata": {
            "tags": null
          },
          "name": "stderr",
          "output_type": "stream",
          "text": [
            "WARNING:absl:Found untraced functions such as _jit_compiled_convolution_op, _jit_compiled_convolution_op, _jit_compiled_convolution_op, _update_step_xla while saving (showing 4 of 4). These functions will not be directly callable after loading.\n"
          ]
        },
        {
          "metadata": {
            "tags": null
          },
          "name": "stdout",
          "output_type": "stream",
          "text": [
            "782/782 [==============================] - 123s 157ms/step - loss: 1.6670e-06 - accuracy: 1.0000 - val_loss: 1.7418e-06 - val_accuracy: 1.0000\n",
            "Epoch 14/20\n",
            "781/782 [============================>.] - ETA: 0s - loss: 1.0433e-06 - accuracy: 1.0000"
          ]
        },
        {
          "metadata": {
            "tags": null
          },
          "name": "stderr",
          "output_type": "stream",
          "text": [
            "WARNING:absl:Found untraced functions such as _jit_compiled_convolution_op, _jit_compiled_convolution_op, _jit_compiled_convolution_op, _update_step_xla while saving (showing 4 of 4). These functions will not be directly callable after loading.\n"
          ]
        },
        {
          "metadata": {
            "tags": null
          },
          "name": "stdout",
          "output_type": "stream",
          "text": [
            "782/782 [==============================] - 121s 155ms/step - loss: 1.0430e-06 - accuracy: 1.0000 - val_loss: 1.1287e-06 - val_accuracy: 1.0000\n",
            "Epoch 15/20\n",
            "781/782 [============================>.] - ETA: 0s - loss: 7.1938e-07 - accuracy: 1.0000"
          ]
        },
        {
          "metadata": {
            "tags": null
          },
          "name": "stderr",
          "output_type": "stream",
          "text": [
            "WARNING:absl:Found untraced functions such as _jit_compiled_convolution_op, _jit_compiled_convolution_op, _jit_compiled_convolution_op, _update_step_xla while saving (showing 4 of 4). These functions will not be directly callable after loading.\n"
          ]
        },
        {
          "output_type": "stream",
          "name": "stdout",
          "text": [
            "782/782 [==============================] - 125s 160ms/step - loss: 7.1923e-07 - accuracy: 1.0000 - val_loss: 9.4390e-07 - val_accuracy: 1.0000\n",
            "Epoch 16/20\n",
            "782/782 [==============================] - 123s 158ms/step - loss: 0.0801 - accuracy: 0.9785 - val_loss: 0.0022 - val_accuracy: 1.0000\n",
            "Epoch 17/20\n",
            "782/782 [==============================] - 121s 154ms/step - loss: 5.3369e-04 - accuracy: 1.0000 - val_loss: 2.5374e-04 - val_accuracy: 1.0000\n",
            "Epoch 18/20\n",
            "782/782 [==============================] - 122s 156ms/step - loss: 1.5809e-04 - accuracy: 1.0000 - val_loss: 1.1415e-04 - val_accuracy: 1.0000\n",
            "Epoch 19/20\n",
            "782/782 [==============================] - 128s 163ms/step - loss: 7.7977e-05 - accuracy: 1.0000 - val_loss: 6.3602e-05 - val_accuracy: 1.0000\n",
            "Epoch 20/20\n",
            "782/782 [==============================] - 121s 155ms/step - loss: 4.4915e-05 - accuracy: 1.0000 - val_loss: 4.1313e-05 - val_accuracy: 1.0000\n"
          ]
        }
      ]
    },
    {
      "cell_type": "code",
      "source": [
        "with open('models/initial-end-to-end-history', 'wb') as history_file:\n",
        "  pickle.dump(history.history, history_file)"
      ],
      "metadata": {
        "id": "8NpFJg28Emx6"
      },
      "execution_count": 12,
      "outputs": []
    },
    {
      "cell_type": "code",
      "source": [
        "best_model = keras.models.load_model('models/initial-end-to-end')"
      ],
      "metadata": {
        "id": "mnXwB9s4E4UA"
      },
      "execution_count": 13,
      "outputs": []
    },
    {
      "cell_type": "code",
      "source": [
        "test_df = pd.read_csv('/content/drive/MyDrive/sign_mnist_test.csv')\n",
        "test_df = test_df.sample(frac=1, random_state=42)\n",
        "X_test, y_test = test_df.drop('label', axis=1), test_df['label']"
      ],
      "metadata": {
        "id": "c19rYaHVUodk"
      },
      "execution_count": 15,
      "outputs": []
    },
    {
      "cell_type": "code",
      "source": [
        "def evaluate_model(model, X_test, y_test, label_binarizer):\n",
        "  X_test_reshape = tf.reshape(X_test, [-1, 28, 28, 1])\n",
        "  y_test_labels = label_binarizer.transform(y_test)\n",
        "  results = model.evaluate(X_test_reshape, y_test_labels)\n",
        "  print(f'Loss: {results[0]:.3f} Accuracy: {results[1]:.3f}')\n",
        "\n",
        "results = evaluate_model(best_model, test_df.drop('label', axis=1), test_df['label'], label_binarizer)"
      ],
      "metadata": {
        "colab": {
          "base_uri": "https://localhost:8080/"
        },
        "id": "2FzjBNIkSqn5",
        "outputId": "a7cdc387-956c-4610-ba95-18f1a301a036"
      },
      "execution_count": 16,
      "outputs": [
        {
          "output_type": "stream",
          "name": "stdout",
          "text": [
            "225/225 [==============================] - 9s 37ms/step - loss: 121.3819 - accuracy: 0.9248\n",
            "Loss: 121.382 Accuracy: 0.925\n"
          ]
        }
      ]
    }
  ]
}